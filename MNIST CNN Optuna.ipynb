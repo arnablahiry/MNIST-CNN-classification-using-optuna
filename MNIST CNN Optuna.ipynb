{
  "nbformat": 4,
  "nbformat_minor": 0,
  "metadata": {
    "colab": {
      "provenance": [],
      "collapsed_sections": []
    },
    "kernelspec": {
      "name": "python3",
      "display_name": "Python 3"
    },
    "language_info": {
      "name": "python"
    },
    "accelerator": "GPU"
  },
  "cells": [
    {
      "cell_type": "markdown",
      "source": [
        "Importing the necessary libraries and packages"
      ],
      "metadata": {
        "id": "mh7O5DlA2PBH"
      }
    },
    {
      "cell_type": "code",
      "execution_count": null,
      "metadata": {
        "id": "2MOm8Mt0_so9",
        "colab": {
          "base_uri": "https://localhost:8080/"
        },
        "outputId": "edc5a3de-d9ac-4b1b-dadc-4f65839b8d66"
      },
      "outputs": [
        {
          "output_type": "stream",
          "name": "stdout",
          "text": [
            "\n",
            "------------------Installing Optuna------------------\n",
            "--------------for hyperparameter tuning--------------\n",
            "\n",
            "\n",
            "\t\t\tDone!\n",
            "\n",
            "\n"
          ]
        }
      ],
      "source": [
        "import numpy as np\n",
        "import torch\n",
        "import torch.nn.functional as F\n",
        "import torch.nn as nn\n",
        "import torchvision\n",
        "import torch.optim as optim\n",
        "from torchvision.datasets import MNIST\n",
        "from torchvision.transforms import ToTensor\n",
        "from torch.utils.data.sampler import SubsetRandomSampler\n",
        "from torch.utils.data.dataloader import DataLoader\n",
        "import matplotlib\n",
        "import matplotlib.pyplot as plt\n",
        "%matplotlib inline\n",
        "\n",
        "print('\\n------------------Installing Optuna------------------')\n",
        "print('--------------for hyperparameter tuning--------------\\n')\n",
        "\n",
        "%pip install optuna -q -q -q --no-input\n",
        "print('\\n\\t\\t\\tDone!\\n\\n')\n",
        "\n",
        "import optuna"
      ]
    },
    {
      "cell_type": "markdown",
      "source": [
        "Downloading the MNIST dataset from PyTorch torchvision datasets and splitting them into training and testing sets"
      ],
      "metadata": {
        "id": "tsi3XB5N2Up0"
      }
    },
    {
      "cell_type": "code",
      "source": [
        "train_dataset = MNIST(\n",
        "    root = 'data/',\n",
        "    train = True,\n",
        "    download = True,\n",
        "    transform = ToTensor()\n",
        "    )\n"
      ],
      "metadata": {
        "id": "AqrKLKlGAzlI"
      },
      "execution_count": null,
      "outputs": []
    },
    {
      "cell_type": "markdown",
      "source": [
        "Checking the size of the training dataset"
      ],
      "metadata": {
        "id": "2gcKQ4AV2enc"
      }
    },
    {
      "cell_type": "code",
      "source": [
        "print(train_dataset)"
      ],
      "metadata": {
        "colab": {
          "base_uri": "https://localhost:8080/"
        },
        "id": "uQ62LgAqqZJM",
        "outputId": "967e3eb5-70f3-4168-d290-3f30aaf27a93"
      },
      "execution_count": null,
      "outputs": [
        {
          "output_type": "stream",
          "name": "stdout",
          "text": [
            "Dataset MNIST\n",
            "    Number of datapoints: 60000\n",
            "    Root location: data/\n",
            "    Split: Train\n",
            "    StandardTransform\n",
            "Transform: ToTensor()\n"
          ]
        }
      ]
    },
    {
      "cell_type": "markdown",
      "source": [
        "To validate the data while training over multiple epochs, the following function splits the training dataset into training and validation on the basis of provided validation percentage"
      ],
      "metadata": {
        "id": "UqoX10HU2hf2"
      }
    },
    {
      "cell_type": "code",
      "source": [
        "#splitting validation set function\n",
        "def split_index(size, val_pct, seed):\n",
        "  n_val = int(size*val_pct)\n",
        "  np.random.seed(seed)\n",
        "  index = np.random.permutation(size)\n",
        "  return (index[n_val:], index[:n_val])  \n",
        "  #training and validation respectively"
      ],
      "metadata": {
        "id": "kxKU1_89A8yA"
      },
      "execution_count": null,
      "outputs": []
    },
    {
      "cell_type": "code",
      "source": [
        "#initialising a seed value for the random function\n",
        "\n",
        "seed = 40\n",
        "\n",
        "train_idx, val_idx = split_index(len(train_dataset), 0.2, seed)\n",
        "\n",
        "print('Length of the whole dataset : ', len(train_dataset))\n",
        "print('Length of training set :', len(train_idx))\n",
        "print('Length of validation set :', len(val_idx))\n"
      ],
      "metadata": {
        "colab": {
          "base_uri": "https://localhost:8080/"
        },
        "id": "m3K2Wbi-KkOe",
        "outputId": "d9eb4da1-6213-46e0-e50b-292579002b6c"
      },
      "execution_count": null,
      "outputs": [
        {
          "output_type": "stream",
          "name": "stdout",
          "text": [
            "Length of the whole dataset :  60000\n",
            "Length of training set : 48000\n",
            "Length of validation set : 12000\n"
          ]
        }
      ]
    },
    {
      "cell_type": "markdown",
      "source": [
        "Defining the batchsize for the dataset and forming separate PyTorch DataLoaders for training, vaidation and testing"
      ],
      "metadata": {
        "id": "MZuY_4bi3l26"
      }
    },
    {
      "cell_type": "code",
      "source": [
        "#creating PyTorch DataLoaders for training and validation\n",
        "\n",
        "#defining the data batch size\n",
        "batchsize = 40\n",
        "\n",
        "#randomly sampling the data for training using the previously defined training indices\n",
        "sample_train = SubsetRandomSampler(train_idx)\n",
        "#forming the training DataLoader\n",
        "train_dl = DataLoader(train_dataset, batchsize, sampler = sample_train)\n",
        "\n",
        "#randomly sampling the data for validation using the previously defined validation indices\n",
        "sample_val = SubsetRandomSampler(val_idx)\n",
        "#forming the training DataLoader\n",
        "valid_dl = DataLoader(train_dataset, batchsize, sampler = sample_val)\n"
      ],
      "metadata": {
        "id": "wQiGTDa5Lh1V"
      },
      "execution_count": null,
      "outputs": []
    },
    {
      "cell_type": "markdown",
      "source": [
        "Visualising one batch of training input"
      ],
      "metadata": {
        "id": "zTZRk8Z44G0a"
      }
    },
    {
      "cell_type": "code",
      "source": [
        "from torchvision.utils import make_grid\n",
        "\n",
        "def print_batch(dl):\n",
        "  for img, labels in dl:\n",
        "    fig, ax = plt.subplots(figsize = (5,5))\n",
        "    ax.imshow(make_grid(img, 10).permute(1,2,0))\n",
        "    break\n",
        "\n",
        "print_batch(train_dl)"
      ],
      "metadata": {
        "colab": {
          "base_uri": "https://localhost:8080/",
          "height": 164
        },
        "id": "5feS-fVTSYl7",
        "outputId": "28c3e743-17b6-4468-dfd5-3a5a2b589a53"
      },
      "execution_count": null,
      "outputs": [
        {
          "output_type": "display_data",
          "data": {
            "text/plain": [
              "<Figure size 360x360 with 1 Axes>"
            ],
            "image/png": "[encoded data removed]"
          },
          "metadata": {
            "needs_background": "light"
          }
        }
      ]
    },
    {
      "cell_type": "markdown",
      "source": [
        "Input image dimensions and number of prediction classes"
      ],
      "metadata": {
        "id": "hiqFyh5v4dFP"
      }
    },
    {
      "cell_type": "code",
      "source": [
        "img_size = 28*28\n",
        "predict_classes = 10\n",
        "\n"
      ],
      "metadata": {
        "id": "onYbWpRfM6wf"
      },
      "execution_count": null,
      "outputs": []
    },
    {
      "cell_type": "markdown",
      "source": [
        "Defining the convolutional neural network model. Using a simple nn.Sequential model with multiple 2d convolutional layers. The input size after each layer is mentioned as comments. The output is flattened after convolution and is put through a fully connected layer resulting in an output of seze = predict_classes.\n",
        "\n",
        "The model is defined using the build_model function which takes the Optuna parameter dictionary as an input."
      ],
      "metadata": {
        "id": "7LMa-DfG5RSp"
      }
    },
    {
      "cell_type": "code",
      "source": [
        "def build_model(params):\n",
        "\n",
        "  in_channel = 1\n",
        "\n",
        "  return nn.Sequential(\n",
        "      \n",
        "      nn.Conv2d(in_channel,params['n_filter_1'],kernel_size = 3, stride = 1, padding = 3),\n",
        "      nn.ReLU(),\n",
        "      nn.MaxPool2d(2,2),\n",
        "\n",
        "      nn.Conv2d(params['n_filter_1'],params['n_filter_2'],kernel_size = 3, stride = 1, padding = 1),\n",
        "      nn.ReLU(),\n",
        "      nn.MaxPool2d(2,2),\n",
        "\n",
        "      nn.Conv2d(params['n_filter_2'],params['n_filter_3'],kernel_size = 3, stride = 1, padding = 1),\n",
        "      nn.ReLU(),\n",
        "      nn.MaxPool2d(2,2),\n",
        "\n",
        "      nn.Conv2d(params['n_filter_3'],params['n_filter_4'],kernel_size = 3, stride = 1, padding = 1),\n",
        "      nn.ReLU(),\n",
        "      nn.MaxPool2d(2,2),\n",
        "\n",
        "      nn.Conv2d(params['n_filter_4'],params['n_filter_5'],kernel_size = 3, stride = 1, padding = 1),\n",
        "      nn.ReLU(),\n",
        "      nn.MaxPool2d(2,2),\n",
        "\n",
        "      nn.Flatten(),\n",
        "      nn.Linear(params['n_filter_5'],10),\n",
        "      \n",
        "  )"
      ],
      "metadata": {
        "id": "ODCd5aZTnxEk"
      },
      "execution_count": null,
      "outputs": []
    },
    {
      "cell_type": "markdown",
      "source": [
        "* default_device checks whether GPU is available on the system or not and returns the appropriate result.\n",
        "\n",
        "* to_device takes a tensor or a list of tensors and the device as input and moves the former to the device.\n",
        "\n",
        "* DeviceDataLoader is a class which moves the data from the previously defined dataloaders to the device per batch."
      ],
      "metadata": {
        "id": "xyZjVAUc5uiC"
      }
    },
    {
      "cell_type": "code",
      "source": [
        "def default_device():\n",
        "  #Selects GPU if it is available, otherwise CPU\n",
        "  if torch.cuda.is_available():\n",
        "    return torch.device('cuda')\n",
        "  else:\n",
        "    return torch.device('cpu')\n",
        "\n",
        "\n",
        "def to_device(t, device):\n",
        "  #Moves the tensor t to the chosen device\n",
        "  #the data can be a tensor or a list/tuple of tensors\n",
        "\n",
        "  if isinstance(t, (list,tuple)):\n",
        "    return [to_device(i,device) for i in t]\n",
        "  return t.to(device, non_blocking = True)\n",
        "\n",
        "\n",
        "class DeviceDataLoader():\n",
        "  #moving data to the device only when that batch is called\n",
        "  #This is done instead of the whole batch so that the large dataset does not waste GPU memory\n",
        "\n",
        "  def __init__(self, dl,device):\n",
        "    super().__init__()\n",
        "    self.dl = dl\n",
        "    self.device = device\n",
        "\n",
        "  def __iter__(self):\n",
        "    #yields a batch of data after transferring it to the device\n",
        "    for i in self.dl:\n",
        "      yield to_device(i, self.device)\n",
        "\n",
        "  def __len__(self):\n",
        "    #number of batches\n",
        "    return len(self.dl)\n"
      ],
      "metadata": {
        "id": "v6xOPIvnRB4q"
      },
      "execution_count": null,
      "outputs": []
    },
    {
      "cell_type": "code",
      "source": [
        "device = default_device()\n",
        "if (device == torch.device('cuda')):\n",
        "  print('Using a GPU (Cuda available)')\n",
        "else:\n",
        "  print('Using CPU (Cuda unavailable)')"
      ],
      "metadata": {
        "colab": {
          "base_uri": "https://localhost:8080/"
        },
        "id": "NqsKS_AqMzPY",
        "outputId": "e3cda042-3e29-4075-a0be-6665eaed935b"
      },
      "execution_count": null,
      "outputs": [
        {
          "output_type": "stream",
          "name": "stdout",
          "text": [
            "Using a GPU (Cuda available)\n"
          ]
        }
      ]
    },
    {
      "cell_type": "markdown",
      "source": [
        "The accuracy function defines the accuracy metric which determines how the model functions overall. It checks the predictions with the labels and returns a percentage of the accurate predictions"
      ],
      "metadata": {
        "id": "9jKf0fdS59QF"
      }
    },
    {
      "cell_type": "code",
      "source": [
        "def accuracy(outputs, labels):\n",
        "  _,preds = torch.max(outputs, dim = 1)\n",
        "  return (torch.sum(preds == labels).item()/len(preds))   "
      ],
      "metadata": {
        "id": "4LzLo3J-VMlJ"
      },
      "execution_count": null,
      "outputs": []
    },
    {
      "cell_type": "markdown",
      "source": [
        "the loss_batch function is defined which calculates the loss for a particular batch with respect to the provided loss function. If the optimiser is provided, this function conducts the backward propagation for the model parameters and updates them based on the learning rate for each iteration. The loss, and length of the data are returned\n"
      ],
      "metadata": {
        "id": "d5-xE1HP6mXP"
      }
    },
    {
      "cell_type": "code",
      "source": [
        "def loss_batch(model, loss_fn, x, y, opt = None, metric = None):\n",
        "\n",
        "  #for a given optimiser function:\n",
        "  if opt is not None:\n",
        "    # get the inputs; data is a list of [inputs, labels]\n",
        "    # zero the parameter gradients\n",
        "    opt.zero_grad()\n",
        "    # forward + backward + optimize\n",
        "    preds = model(x)\n",
        "    loss1 = loss_fn()\n",
        "    loss = loss1(preds, y)\n",
        "    loss.backward()\n",
        "    opt.step()\n",
        "\n",
        "  else: \n",
        "    preds = model(x)\n",
        "    loss1 = loss_fn()\n",
        "    loss = loss1(preds, y)\n",
        "\n",
        "  metric_result = None\n",
        "  if metric is not None:\n",
        "    metric_result = metric(preds,y)\n",
        "\n",
        "  return loss.item(), len(x), metric_result"
      ],
      "metadata": {
        "id": "Jdfqwc4nV4Ml"
      },
      "execution_count": null,
      "outputs": []
    },
    {
      "cell_type": "markdown",
      "source": [
        "The evaluate function is defined which calculates the average loss of the validation dataset per epoch, while training the model"
      ],
      "metadata": {
        "id": "MltIQuYS6rrW"
      }
    },
    {
      "cell_type": "code",
      "source": [
        "def evaluate(model, loss_fn, valid_dl, metric = None):\n",
        "    \n",
        "  #evaluating each batch through the model\n",
        "  predictions = [loss_batch(model, loss_fn, x, y, metric = metric) for x, y in valid_dl]\n",
        "\n",
        "  #saving the losses, counts and metrics as separate lists\n",
        "  losses, counts, metrics = zip(*predictions)\n",
        "    \n",
        "  #total size of the dataset\n",
        "  size = np.sum(counts)\n",
        "\n",
        "  #calculating the average loss\n",
        "  avg_loss = np.sum(np.multiply(losses,counts))/size\n",
        "\n",
        "  avg_metric = None\n",
        "  if metric is not None:\n",
        "    avg_metric = np.sum(np.multiply(metrics,counts))/size\n",
        "\n",
        "  #returning average loss, total size\n",
        "  return avg_loss, size, avg_metric\n",
        "  "
      ],
      "metadata": {
        "id": "LJV6K1pdV5Tk"
      },
      "execution_count": null,
      "outputs": []
    },
    {
      "cell_type": "markdown",
      "source": [
        "The Optuna parameters are defined using the objective() function, and the model is built using these parameters. This model is passed through the fit() function which trains and validates the model for a given number of epochs and then returns the accuracy value of the last epoch, which will be the metric Optuna will optimise for. A new Optuna study is then created in memory which optimises the parameters for maximising the accuracy. The total number of trials are set manually."
      ],
      "metadata": {
        "id": "WgBxGybp6uf9"
      }
    },
    {
      "cell_type": "code",
      "source": [
        "def fit(param,epochs, model, train_dl, valid_dl, metric = None):\n",
        "\n",
        "  train_dl = DeviceDataLoader(train_dl, device)\n",
        "  valid_dl = DeviceDataLoader(valid_dl, device)\n",
        "  to_device(model, device)\n",
        "\n",
        "  val_metrics = []\n",
        "\n",
        "  loss_fn = nn.CrossEntropyLoss\n",
        "  opt = getattr(optim, param['optimizer'])(model.parameters(), lr= param['learning_rate'])\n",
        "\n",
        "  for epoch in range(epochs): \n",
        "    model.train()\n",
        "    for x,y in train_dl:\n",
        "      train_loss,_,_ = loss_batch(model, loss_fn, x, y, opt)\n",
        "    model.eval()\n",
        "    with torch.no_grad():\n",
        "      results = evaluate(model,loss_fn,valid_dl, metric = metric)\n",
        "      val_loss,size,val_metric = results\n",
        "      val_metrics.append(val_metric)\n",
        "    \n",
        "  return val_metrics[-1]\n",
        "\n",
        "\n",
        "def objective(trial):\n",
        "\n",
        "  params = {\n",
        "            'learning_rate': trial.suggest_loguniform('learning_rate', 1e-7, 1e-1),\n",
        "            'optimizer': trial.suggest_categorical(\"optimizer\", [\"Adam\", \"RMSprop\", \"SGD\"]),\n",
        "            'n_filter_1': trial.suggest_int(\"n_filter_1\", 4, 16),\n",
        "            'n_filter_2': trial.suggest_int(\"n_filter_2\", 10, 20),\n",
        "            'n_filter_3': trial.suggest_int(\"n_filter_3\", 15, 30),\n",
        "            'n_filter_4': trial.suggest_int(\"n_filter_4\", 22, 44),\n",
        "            'n_filter_5': trial.suggest_int(\"n_filter_5\", 33, 66)\n",
        "           }\n",
        "\n",
        "  model = build_model(params)\n",
        "\n",
        "  epochs = 5\n",
        "  accuracy_fin = fit(params,epochs, model, train_dl, valid_dl, metric = accuracy)\n",
        "\n",
        "  return accuracy_fin\n",
        "\n",
        "study = optuna.create_study(direction=\"maximize\", sampler=optuna.samplers.TPESampler())\n",
        "study.optimize(objective, n_trials=10)"
      ],
      "metadata": {
        "id": "Qw7hMS1rWuno",
        "colab": {
          "base_uri": "https://localhost:8080/"
        },
        "outputId": "de20c1b3-fbda-4ca1-bb1e-07dd94597eeb"
      },
      "execution_count": null,
      "outputs": [
        {
          "output_type": "stream",
          "name": "stderr",
          "text": [
            "\u001b[32m[I 2022-06-25 13:30:03,710]\u001b[0m A new study created in memory with name: no-name-52a06277-2c65-45be-bf1f-dd5101f0a381\u001b[0m\n",
            "\u001b[32m[I 2022-06-25 13:30:57,967]\u001b[0m Trial 0 finished with value: 0.20483333333333334 and parameters: {'learning_rate': 1.3818104838784747e-06, 'optimizer': 'RMSprop', 'n_filter_1': 8, 'n_filter_2': 16, 'n_filter_3': 25, 'n_filter_4': 42, 'n_filter_5': 42}. Best is trial 0 with value: 0.20483333333333334.\u001b[0m\n",
            "\u001b[32m[I 2022-06-25 13:31:48,353]\u001b[0m Trial 1 finished with value: 0.9745833333333334 and parameters: {'learning_rate': 0.007244515189522473, 'optimizer': 'Adam', 'n_filter_1': 11, 'n_filter_2': 15, 'n_filter_3': 22, 'n_filter_4': 37, 'n_filter_5': 38}. Best is trial 1 with value: 0.9745833333333334.\u001b[0m\n",
            "\u001b[32m[I 2022-06-25 13:32:33,502]\u001b[0m Trial 2 finished with value: 0.9755 and parameters: {'learning_rate': 0.0012911706311217075, 'optimizer': 'RMSprop', 'n_filter_1': 6, 'n_filter_2': 20, 'n_filter_3': 24, 'n_filter_4': 36, 'n_filter_5': 57}. Best is trial 2 with value: 0.9755.\u001b[0m\n",
            "\u001b[32m[I 2022-06-25 13:33:16,172]\u001b[0m Trial 3 finished with value: 0.16841666666666666 and parameters: {'learning_rate': 0.0006501879056909767, 'optimizer': 'SGD', 'n_filter_1': 14, 'n_filter_2': 13, 'n_filter_3': 26, 'n_filter_4': 31, 'n_filter_5': 35}. Best is trial 2 with value: 0.9755.\u001b[0m\n",
            "\u001b[32m[I 2022-06-25 13:34:00,337]\u001b[0m Trial 4 finished with value: 0.10125 and parameters: {'learning_rate': 1.511538571215401e-07, 'optimizer': 'RMSprop', 'n_filter_1': 16, 'n_filter_2': 12, 'n_filter_3': 26, 'n_filter_4': 40, 'n_filter_5': 41}. Best is trial 2 with value: 0.9755.\u001b[0m\n",
            "\u001b[32m[I 2022-06-25 13:34:43,412]\u001b[0m Trial 5 finished with value: 0.09533333333333334 and parameters: {'learning_rate': 0.0006142892735764753, 'optimizer': 'SGD', 'n_filter_1': 9, 'n_filter_2': 18, 'n_filter_3': 26, 'n_filter_4': 22, 'n_filter_5': 50}. Best is trial 2 with value: 0.9755.\u001b[0m\n",
            "\u001b[32m[I 2022-06-25 13:35:25,748]\u001b[0m Trial 6 finished with value: 0.9801666666666666 and parameters: {'learning_rate': 0.04725026289746303, 'optimizer': 'SGD', 'n_filter_1': 4, 'n_filter_2': 18, 'n_filter_3': 15, 'n_filter_4': 27, 'n_filter_5': 33}. Best is trial 6 with value: 0.9801666666666666.\u001b[0m\n",
            "\u001b[32m[I 2022-06-25 13:36:09,598]\u001b[0m Trial 7 finished with value: 0.2515 and parameters: {'learning_rate': 5.375296578434403e-06, 'optimizer': 'RMSprop', 'n_filter_1': 4, 'n_filter_2': 18, 'n_filter_3': 19, 'n_filter_4': 23, 'n_filter_5': 61}. Best is trial 6 with value: 0.9801666666666666.\u001b[0m\n",
            "\u001b[32m[I 2022-06-25 13:36:56,296]\u001b[0m Trial 8 finished with value: 0.11258333333333333 and parameters: {'learning_rate': 2.0209903444318297e-07, 'optimizer': 'Adam', 'n_filter_1': 8, 'n_filter_2': 13, 'n_filter_3': 25, 'n_filter_4': 41, 'n_filter_5': 36}. Best is trial 6 with value: 0.9801666666666666.\u001b[0m\n",
            "\u001b[32m[I 2022-06-25 13:37:40,917]\u001b[0m Trial 9 finished with value: 0.9808333333333333 and parameters: {'learning_rate': 0.002112681875072982, 'optimizer': 'RMSprop', 'n_filter_1': 8, 'n_filter_2': 15, 'n_filter_3': 29, 'n_filter_4': 23, 'n_filter_5': 50}. Best is trial 9 with value: 0.9808333333333333.\u001b[0m\n"
          ]
        }
      ]
    },
    {
      "cell_type": "markdown",
      "source": [
        "After Optuna is finished optimising the parameters for maximum accuracy, the best trial parameters are saved in the Optuna study as a dictionary and can be called forth to evaluate the final model."
      ],
      "metadata": {
        "id": "ZdnK7sxN68u6"
      }
    },
    {
      "cell_type": "code",
      "source": [
        "best_trial = study.best_trial\n",
        "\n",
        "for key, value in best_trial.params.items():\n",
        "    print(\"{}: {}\".format(key, value))"
      ],
      "metadata": {
        "colab": {
          "base_uri": "https://localhost:8080/"
        },
        "id": "zOlWJfrJ0lcQ",
        "outputId": "b63347c5-2811-4f82-a6c4-666fcb0a6a68"
      },
      "execution_count": null,
      "outputs": [
        {
          "output_type": "stream",
          "name": "stdout",
          "text": [
            "learning_rate: 0.002112681875072982\n",
            "optimizer: RMSprop\n",
            "n_filter_1: 8\n",
            "n_filter_2: 15\n",
            "n_filter_3: 29\n",
            "n_filter_4: 23\n",
            "n_filter_5: 50\n"
          ]
        }
      ]
    },
    {
      "cell_type": "markdown",
      "source": [
        "Checking the initial losses and accuracy before beginning the training procedure"
      ],
      "metadata": {
        "id": "etyMia7H8m7c"
      }
    },
    {
      "cell_type": "code",
      "source": [
        "params_final = best_trial.params\n",
        "\n",
        "final_model = build_model(params_final)\n",
        "\n",
        "init_val_loss,_,init_val_accuracy = evaluate(final_model, nn.CrossEntropyLoss, valid_dl, metric = accuracy)\n",
        "init_train_loss,_,_ = evaluate(final_model, nn.CrossEntropyLoss, train_dl, metric = accuracy)\n",
        "\n",
        "print('Initial validation loss = {:.3f}'.format(init_val_loss))\n",
        "print('Initial training loss = {:.3f}'.format(init_train_loss))\n",
        "\n",
        "print('\\nInitial validation accuracy = {:.3f} %'.format(init_val_accuracy*100))\n"
      ],
      "metadata": {
        "colab": {
          "base_uri": "https://localhost:8080/"
        },
        "id": "Zjj8l17Z7XNh",
        "outputId": "7236e331-7b17-44a5-b685-9d529efd5a1e"
      },
      "execution_count": null,
      "outputs": [
        {
          "output_type": "stream",
          "name": "stdout",
          "text": [
            "Initial validation loss = 2.307\n",
            "Initial training loss = 2.307\n",
            "\n",
            "Initial validation accuracy = 10.325 %\n"
          ]
        }
      ]
    },
    {
      "cell_type": "markdown",
      "source": [
        "The train_model function runs for a specified number of epochs. it defines the loss function (cross entropy loss in this case). The optimizer is loaded with the model parameters and provided learning rate. The model trains over the training dataloader and calls the loss_batch function, and then subsequently is evaluated over the validation dataloader by calling the evaluate function to calculate the average validation loss and accuracy for each epoch."
      ],
      "metadata": {
        "id": "Ff69641g6B_T"
      }
    },
    {
      "cell_type": "code",
      "source": [
        "def train_model(param, epochs, model, train_dl, valid_dl):\n",
        "\n",
        "  train_dl = DeviceDataLoader(train_dl, device)\n",
        "  valid_dl = DeviceDataLoader(valid_dl, device)\n",
        "\n",
        "  to_device(model, device)\n",
        "\n",
        "  train_losses = []\n",
        "  val_losses = []\n",
        "  val_metrics = []\n",
        "\n",
        "  metric = accuracy\n",
        "  \n",
        "  loss_fn = nn.CrossEntropyLoss\n",
        "  opt = getattr(optim, param['optimizer'])(model.parameters(), lr= param['learning_rate'])\n",
        "\n",
        "\n",
        "  for epoch in range(epochs):  # loop over the dataset multiple times\n",
        "    model.train()\n",
        "    for x,y in train_dl:\n",
        "      # get the inputs; data is a list of [inputs, labels]\n",
        "      # zero the parameter gradients\n",
        "      train_loss,_,_ = loss_batch(model, loss_fn, x, y, opt)\n",
        "      \n",
        "    model.eval()\n",
        "    results = evaluate(model,loss_fn,valid_dl, metric = metric)\n",
        "    val_loss,size,val_metric = results\n",
        "\n",
        "    #saving the losses for each epoch as a list\n",
        "    train_losses.append(train_loss)\n",
        "    val_losses.append(val_loss)\n",
        "    val_metrics.append(val_metric)\n",
        "\n",
        "\n",
        "    # printing the validation loss for each 100 epochs\n",
        "\n",
        "    if epoch % 1 == 0:\n",
        "      print('Epoch [{}/{}], train_loss: {:.3f}, val_loss: {:.3f}, val_accuracy: {:.3f} %'.format(epoch+1,epochs, train_loss, val_loss, val_metric*100))\n",
        "\n",
        "\n",
        "  print('Finished Training!')\n",
        "  \n",
        "  print('\\nFinal training loss = {:.3f} %'.format(train_losses[-1]))\n",
        "  print('Final validation loss = {:.3f} %'.format(val_losses[-1]))\n",
        "  print('Final validation accuracy = {:.3f} %'.format(val_metrics[-1]*100))\n",
        "\n",
        "\n",
        "  #returning the list containing the losses\n",
        "  return train_losses, val_losses, val_metrics"
      ],
      "metadata": {
        "id": "JXHS-LEx1PBE"
      },
      "execution_count": null,
      "outputs": []
    },
    {
      "cell_type": "code",
      "source": [],
      "metadata": {
        "id": "9ypbnlfS2mGt"
      },
      "execution_count": null,
      "outputs": []
    },
    {
      "cell_type": "code",
      "source": [
        "epochs = 10\n",
        "\n",
        "train_losses, val_losses, val_metrics = train_model(params_final, epochs, final_model, train_dl, valid_dl)"
      ],
      "metadata": {
        "colab": {
          "base_uri": "https://localhost:8080/"
        },
        "id": "_Z9ZxyZQ29oh",
        "outputId": "7888d8c6-368d-498b-ecdf-b526df6d83e0"
      },
      "execution_count": null,
      "outputs": [
        {
          "output_type": "stream",
          "name": "stdout",
          "text": [
            "Epoch [1/10], train_loss: 0.375, val_loss: 0.330, val_accuracy: 89.867 %\n",
            "Epoch [2/10], train_loss: 0.046, val_loss: 0.075, val_accuracy: 97.833 %\n",
            "Epoch [3/10], train_loss: 0.041, val_loss: 0.061, val_accuracy: 98.200 %\n",
            "Epoch [4/10], train_loss: 0.016, val_loss: 0.050, val_accuracy: 98.525 %\n",
            "Epoch [5/10], train_loss: 0.002, val_loss: 0.052, val_accuracy: 98.500 %\n",
            "Epoch [6/10], train_loss: 0.003, val_loss: 0.065, val_accuracy: 98.175 %\n",
            "Epoch [7/10], train_loss: 0.131, val_loss: 0.067, val_accuracy: 98.125 %\n",
            "Epoch [8/10], train_loss: 0.023, val_loss: 0.059, val_accuracy: 98.342 %\n",
            "Epoch [9/10], train_loss: 0.306, val_loss: 0.070, val_accuracy: 98.033 %\n",
            "Epoch [10/10], train_loss: 0.032, val_loss: 0.051, val_accuracy: 98.558 %\n",
            "Finished Training!\n",
            "\n",
            "Final training loss = 0.032 %\n",
            "Final validation loss = 0.051 %\n",
            "Final validation accuracy = 98.558 %\n"
          ]
        }
      ]
    },
    {
      "cell_type": "code",
      "source": [
        "init_val_loss,_,init_val_accuracy = evaluate(final_model, nn.CrossEntropyLoss, valid_dl, metric = accuracy)\n",
        "\n",
        "print('Initial validation loss = {:.3f}'.format(init_val_loss))\n",
        "\n",
        "print('\\nInitial validation accuracy = {:.3f} %'.format(init_val_accuracy*100))"
      ],
      "metadata": {
        "colab": {
          "base_uri": "https://localhost:8080/"
        },
        "id": "xoswR85PH77G",
        "outputId": "58b1f726-0a3f-4d29-d97a-c073cedc2c0b"
      },
      "execution_count": null,
      "outputs": [
        {
          "output_type": "stream",
          "name": "stdout",
          "text": [
            "Initial validation loss = 0.051\n",
            "\n",
            "Initial validation accuracy = 98.558 %\n"
          ]
        }
      ]
    },
    {
      "cell_type": "markdown",
      "source": [
        "Generating plots to show the increase in the validation accuracy and the decrease in validation and training losses with increasing number of epochs. Since the MNIST dataset is a relatively simple dataset with only one channel per image, we can see that the the accuracy increases sharply in just one epoch and the training and validation losses decrease just as sharply."
      ],
      "metadata": {
        "id": "_A8fur4w7tsL"
      }
    },
    {
      "cell_type": "code",
      "source": [
        "print('\\nPlotting the change in accuracy and loss with increasing number of epochs\\n')\n",
        "epochs_list = [0]+[i+1 for i in range(epochs)]\n",
        "plt.figure(figsize = (8,5))\n",
        "#adding in the initial accuracy value to see the change in the 1st epoch\n",
        "acc_values = [init_val_accuracy] + val_metrics\n",
        "plt.plot(epochs_list, acc_values, color = 'darkblue', marker = '.', markersize = 12, label = 'val_accuracy')\n",
        "\n",
        "\n",
        "plt.title('Validation Accuracy')\n",
        "plt.xlabel('Epochs')\n",
        "plt.ylabel('Accuracy')\n",
        "plt.grid()\n",
        "plt.legend()\n",
        "plt.show()\n",
        "\n",
        "\n",
        "print('\\n')\n",
        "\n",
        "plt.figure(figsize = (8,5))\n",
        "#adding in the initial loss values to see the change in the 1st epoch\n",
        "loss_values_train = [init_train_loss] + train_losses\n",
        "loss_values_val = [init_val_loss] + val_losses\n",
        "plt.plot(epochs_list, loss_values_train, color = 'chocolate', marker = '.', markersize = 12, label = 'train_loss')\n",
        "plt.plot(epochs_list, loss_values_val, color = 'darkblue', marker = '.', markersize = 12, label = 'validation_loss')\n",
        "plt.title('Loss')\n",
        "plt.xlabel('Epochs')\n",
        "plt.ylabel('Loss')\n",
        "plt.grid()\n",
        "plt.legend()\n",
        "plt.show()\n"
      ],
      "metadata": {
        "colab": {
          "base_uri": "https://localhost:8080/",
          "height": 775
        },
        "id": "d8mbUipcl8MP",
        "outputId": "c6a4c458-5860-4ed8-807a-5f0240736614"
      },
      "execution_count": null,
      "outputs": [
        {
          "output_type": "stream",
          "name": "stdout",
          "text": [
            "\n",
            "Plotting the change in accuracy and loss with increasing number of epochs\n",
            "\n"
          ]
        },
        {
          "output_type": "display_data",
          "data": {
            "text/plain": [
              "<Figure size 576x360 with 1 Axes>"
            ],
            "image/png": "[encoded data removed]"
          },
          "metadata": {
            "needs_background": "light"
          }
        },
        {
          "output_type": "stream",
          "name": "stdout",
          "text": [
            "\n",
            "\n"
          ]
        },
        {
          "output_type": "display_data",
          "data": {
            "text/plain": [
              "<Figure size 576x360 with 1 Axes>"
            ],
            "image/png": "[encoded data removed]"
          },
          "metadata": {
            "needs_background": "light"
          }
        }
      ]
    },
    {
      "cell_type": "markdown",
      "source": [
        "Saving the model to drive for convenience"
      ],
      "metadata": {
        "id": "yEDLRZAyCKSX"
      }
    },
    {
      "cell_type": "code",
      "source": [
        "FILE = \"/content/drive/MyDrive/MODELS/mnist_cnn_optuna.pth\"\n",
        "torch.save(final_model, FILE)  "
      ],
      "metadata": {
        "id": "6QNc3nix8KSJ",
        "colab": {
          "base_uri": "https://localhost:8080/",
          "height": 343
        },
        "outputId": "28f7ca34-11c9-4501-819e-a1efd6833b00"
      },
      "execution_count": null,
      "outputs": [
        {
          "output_type": "error",
          "ename": "FileNotFoundError",
          "evalue": "ignored",
          "traceback": [
            "\u001b[0;31m---------------------------------------------------------------------------\u001b[0m",
            "\u001b[0;31mFileNotFoundError\u001b[0m                         Traceback (most recent call last)",
            "\u001b[0;32m<ipython-input-29-694232d120f0>\u001b[0m in \u001b[0;36m<module>\u001b[0;34m()\u001b[0m\n\u001b[1;32m      1\u001b[0m \u001b[0mFILE\u001b[0m \u001b[0;34m=\u001b[0m \u001b[0;34m\"/content/drive/MyDrive/MODELS/mnist_cnn_optuna.pth\"\u001b[0m\u001b[0;34m\u001b[0m\u001b[0;34m\u001b[0m\u001b[0m\n\u001b[0;32m----> 2\u001b[0;31m \u001b[0mtorch\u001b[0m\u001b[0;34m.\u001b[0m\u001b[0msave\u001b[0m\u001b[0;34m(\u001b[0m\u001b[0mfinal_model\u001b[0m\u001b[0;34m,\u001b[0m \u001b[0mFILE\u001b[0m\u001b[0;34m)\u001b[0m\u001b[0;34m\u001b[0m\u001b[0;34m\u001b[0m\u001b[0m\n\u001b[0m",
            "\u001b[0;32m/usr/local/lib/python3.7/dist-packages/torch/serialization.py\u001b[0m in \u001b[0;36msave\u001b[0;34m(obj, f, pickle_module, pickle_protocol, _use_new_zipfile_serialization)\u001b[0m\n\u001b[1;32m    375\u001b[0m     \u001b[0m_check_dill_version\u001b[0m\u001b[0;34m(\u001b[0m\u001b[0mpickle_module\u001b[0m\u001b[0;34m)\u001b[0m\u001b[0;34m\u001b[0m\u001b[0;34m\u001b[0m\u001b[0m\n\u001b[1;32m    376\u001b[0m \u001b[0;34m\u001b[0m\u001b[0m\n\u001b[0;32m--> 377\u001b[0;31m     \u001b[0;32mwith\u001b[0m \u001b[0m_open_file_like\u001b[0m\u001b[0;34m(\u001b[0m\u001b[0mf\u001b[0m\u001b[0;34m,\u001b[0m \u001b[0;34m'wb'\u001b[0m\u001b[0;34m)\u001b[0m \u001b[0;32mas\u001b[0m \u001b[0mopened_file\u001b[0m\u001b[0;34m:\u001b[0m\u001b[0;34m\u001b[0m\u001b[0;34m\u001b[0m\u001b[0m\n\u001b[0m\u001b[1;32m    378\u001b[0m         \u001b[0;32mif\u001b[0m \u001b[0m_use_new_zipfile_serialization\u001b[0m\u001b[0;34m:\u001b[0m\u001b[0;34m\u001b[0m\u001b[0;34m\u001b[0m\u001b[0m\n\u001b[1;32m    379\u001b[0m             \u001b[0;32mwith\u001b[0m \u001b[0m_open_zipfile_writer\u001b[0m\u001b[0;34m(\u001b[0m\u001b[0mopened_file\u001b[0m\u001b[0;34m)\u001b[0m \u001b[0;32mas\u001b[0m \u001b[0mopened_zipfile\u001b[0m\u001b[0;34m:\u001b[0m\u001b[0;34m\u001b[0m\u001b[0;34m\u001b[0m\u001b[0m\n",
            "\u001b[0;32m/usr/local/lib/python3.7/dist-packages/torch/serialization.py\u001b[0m in \u001b[0;36m_open_file_like\u001b[0;34m(name_or_buffer, mode)\u001b[0m\n\u001b[1;32m    229\u001b[0m \u001b[0;32mdef\u001b[0m \u001b[0m_open_file_like\u001b[0m\u001b[0;34m(\u001b[0m\u001b[0mname_or_buffer\u001b[0m\u001b[0;34m,\u001b[0m \u001b[0mmode\u001b[0m\u001b[0;34m)\u001b[0m\u001b[0;34m:\u001b[0m\u001b[0;34m\u001b[0m\u001b[0;34m\u001b[0m\u001b[0m\n\u001b[1;32m    230\u001b[0m     \u001b[0;32mif\u001b[0m \u001b[0m_is_path\u001b[0m\u001b[0;34m(\u001b[0m\u001b[0mname_or_buffer\u001b[0m\u001b[0;34m)\u001b[0m\u001b[0;34m:\u001b[0m\u001b[0;34m\u001b[0m\u001b[0;34m\u001b[0m\u001b[0m\n\u001b[0;32m--> 231\u001b[0;31m         \u001b[0;32mreturn\u001b[0m \u001b[0m_open_file\u001b[0m\u001b[0;34m(\u001b[0m\u001b[0mname_or_buffer\u001b[0m\u001b[0;34m,\u001b[0m \u001b[0mmode\u001b[0m\u001b[0;34m)\u001b[0m\u001b[0;34m\u001b[0m\u001b[0;34m\u001b[0m\u001b[0m\n\u001b[0m\u001b[1;32m    232\u001b[0m     \u001b[0;32melse\u001b[0m\u001b[0;34m:\u001b[0m\u001b[0;34m\u001b[0m\u001b[0;34m\u001b[0m\u001b[0m\n\u001b[1;32m    233\u001b[0m         \u001b[0;32mif\u001b[0m \u001b[0;34m'w'\u001b[0m \u001b[0;32min\u001b[0m \u001b[0mmode\u001b[0m\u001b[0;34m:\u001b[0m\u001b[0;34m\u001b[0m\u001b[0;34m\u001b[0m\u001b[0m\n",
            "\u001b[0;32m/usr/local/lib/python3.7/dist-packages/torch/serialization.py\u001b[0m in \u001b[0;36m__init__\u001b[0;34m(self, name, mode)\u001b[0m\n\u001b[1;32m    210\u001b[0m \u001b[0;32mclass\u001b[0m \u001b[0m_open_file\u001b[0m\u001b[0;34m(\u001b[0m\u001b[0m_opener\u001b[0m\u001b[0;34m)\u001b[0m\u001b[0;34m:\u001b[0m\u001b[0;34m\u001b[0m\u001b[0;34m\u001b[0m\u001b[0m\n\u001b[1;32m    211\u001b[0m     \u001b[0;32mdef\u001b[0m \u001b[0m__init__\u001b[0m\u001b[0;34m(\u001b[0m\u001b[0mself\u001b[0m\u001b[0;34m,\u001b[0m \u001b[0mname\u001b[0m\u001b[0;34m,\u001b[0m \u001b[0mmode\u001b[0m\u001b[0;34m)\u001b[0m\u001b[0;34m:\u001b[0m\u001b[0;34m\u001b[0m\u001b[0;34m\u001b[0m\u001b[0m\n\u001b[0;32m--> 212\u001b[0;31m         \u001b[0msuper\u001b[0m\u001b[0;34m(\u001b[0m\u001b[0m_open_file\u001b[0m\u001b[0;34m,\u001b[0m \u001b[0mself\u001b[0m\u001b[0;34m)\u001b[0m\u001b[0;34m.\u001b[0m\u001b[0m__init__\u001b[0m\u001b[0;34m(\u001b[0m\u001b[0mopen\u001b[0m\u001b[0;34m(\u001b[0m\u001b[0mname\u001b[0m\u001b[0;34m,\u001b[0m \u001b[0mmode\u001b[0m\u001b[0;34m)\u001b[0m\u001b[0;34m)\u001b[0m\u001b[0;34m\u001b[0m\u001b[0;34m\u001b[0m\u001b[0m\n\u001b[0m\u001b[1;32m    213\u001b[0m \u001b[0;34m\u001b[0m\u001b[0m\n\u001b[1;32m    214\u001b[0m     \u001b[0;32mdef\u001b[0m \u001b[0m__exit__\u001b[0m\u001b[0;34m(\u001b[0m\u001b[0mself\u001b[0m\u001b[0;34m,\u001b[0m \u001b[0;34m*\u001b[0m\u001b[0margs\u001b[0m\u001b[0;34m)\u001b[0m\u001b[0;34m:\u001b[0m\u001b[0;34m\u001b[0m\u001b[0;34m\u001b[0m\u001b[0m\n",
            "\u001b[0;31mFileNotFoundError\u001b[0m: [Errno 2] No such file or directory: '/content/drive/MyDrive/MODELS/mnist_cnn_optuna.pth'"
          ]
        }
      ]
    },
    {
      "cell_type": "markdown",
      "source": [
        "To test the trained model on unseen data, the test dataset is formed and made into a PyTorch DataLoader. The trained model is loaded from drive and is evaluated for the first 5 inputs, showing accurate predictions. The inputs, labels and predicted outputs are printed."
      ],
      "metadata": {
        "id": "YEIiSpqP8lp3"
      }
    },
    {
      "cell_type": "code",
      "source": [
        "test_dataset = MNIST(\n",
        "    root = 'data/',\n",
        "    train = False,\n",
        "    download = True,\n",
        "    transform = ToTensor()\n",
        "    )\n",
        "\n",
        "#forming the test DataLoader\n",
        "test_dl = DataLoader(test_dataset, batchsize, shuffle = True)\n",
        "\n",
        "\n",
        "#import torch\n",
        "#FILE = \"/content/drive/MyDrive/MODELS/mnist_cnn_optuna.pth\"\n",
        "#model = torch.load(FILE)\n",
        "\n",
        "device = torch.device('cpu')\n",
        "model_cpu = final_model.to(device)\n",
        "\n",
        "counter = 0\n",
        "\n",
        "for images, labels in test_dl:\n",
        "  \n",
        "  model_cpu.eval()\n",
        "  if counter == 5:\n",
        "    break\n",
        "\n",
        "  #moving model back to CPU for testing+\n",
        "  out = model_cpu(images)\n",
        "  \n",
        "  print_image = images[0]\n",
        "  print_label = labels[0]\n",
        "\n",
        "  #showing the input image\n",
        "  plt.figure()\n",
        "  plt.imshow(print_image[0], cmap = 'gray')\n",
        "  plt.title('Test image')\n",
        "  plt.show()\n",
        "\n",
        "  print('\\nKnown label is: ', print_label.item())\n",
        "\n",
        "  probs = list((F.softmax(out[0])).flatten().detach().numpy())\n",
        "  prediction = probs.index(max(probs))\n",
        "\n",
        "  print('The predicted label is: ', prediction)\n",
        "  print('\\n')\n",
        "\n",
        "  counter += 1"
      ],
      "metadata": {
        "colab": {
          "base_uri": "https://localhost:8080/",
          "height": 1000
        },
        "id": "cBMw35OTQeN9",
        "outputId": "32b4841a-4d98-421c-d519-cbe97247748d"
      },
      "execution_count": null,
      "outputs": [
        {
          "output_type": "display_data",
          "data": {
            "text/plain": [
              "<Figure size 432x288 with 1 Axes>"
            ],
            "image/png": "[encoded data removed]"
          },
          "metadata": {
            "needs_background": "light"
          }
        },
        {
          "output_type": "stream",
          "name": "stdout",
          "text": [
            "\n",
            "Known label is:  7\n",
            "The predicted label is:  7\n",
            "\n",
            "\n"
          ]
        },
        {
          "output_type": "stream",
          "name": "stderr",
          "text": [
            "/usr/local/lib/python3.7/dist-packages/ipykernel_launcher.py:41: UserWarning: Implicit dimension choice for softmax has been deprecated. Change the call to include dim=X as an argument.\n"
          ]
        },
        {
          "output_type": "display_data",
          "data": {
            "text/plain": [
              "<Figure size 432x288 with 1 Axes>"
            ],
            "image/png": "[encoded data removed]"
          },
          "metadata": {
            "needs_background": "light"
          }
        },
        {
          "output_type": "stream",
          "name": "stdout",
          "text": [
            "\n",
            "Known label is:  1\n",
            "The predicted label is:  1\n",
            "\n",
            "\n"
          ]
        },
        {
          "output_type": "display_data",
          "data": {
            "text/plain": [
              "<Figure size 432x288 with 1 Axes>"
            ],
            "image/png": "[encoded data removed]"
          },
          "metadata": {
            "needs_background": "light"
          }
        },
        {
          "output_type": "stream",
          "name": "stdout",
          "text": [
            "\n",
            "Known label is:  7\n",
            "The predicted label is:  7\n",
            "\n",
            "\n"
          ]
        },
        {
          "output_type": "display_data",
          "data": {
            "text/plain": [
              "<Figure size 432x288 with 1 Axes>"
            ],
            "image/png": "[encoded data removed]"
          },
          "metadata": {
            "needs_background": "light"
          }
        },
        {
          "output_type": "stream",
          "name": "stdout",
          "text": [
            "\n",
            "Known label is:  5\n",
            "The predicted label is:  5\n",
            "\n",
            "\n"
          ]
        },
        {
          "output_type": "display_data",
          "data": {
            "text/plain": [
              "<Figure size 432x288 with 1 Axes>"
            ],
            "image/png": "[encoded data removed]"
          },
          "metadata": {
            "needs_background": "light"
          }
        },
        {
          "output_type": "stream",
          "name": "stdout",
          "text": [
            "\n",
            "Known label is:  4\n",
            "The predicted label is:  4\n",
            "\n",
            "\n"
          ]
        }
      ]
    },
    {
      "cell_type": "code",
      "source": [],
      "metadata": {
        "id": "UVK_jApxS6ER"
      },
      "execution_count": null,
      "outputs": []
    }
  ]
}